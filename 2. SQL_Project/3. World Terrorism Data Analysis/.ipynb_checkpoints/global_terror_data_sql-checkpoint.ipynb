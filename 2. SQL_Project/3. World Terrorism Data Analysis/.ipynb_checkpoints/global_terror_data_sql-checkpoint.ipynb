{
 "cells": [
  {
   "cell_type": "markdown",
   "metadata": {
    "id": "xsgsB878JT8T"
   },
   "source": [
    "# 제로베이스데이터사이언스 스쿨 원데이 프로젝트\n",
    "> ## 세계 테러 데이터 분석 - SQL 사용하기"
   ]
  },
  {
   "cell_type": "markdown",
   "metadata": {
    "id": "p1JAVPxiJT8V"
   },
   "source": [
    "---"
   ]
  },
  {
   "cell_type": "markdown",
   "metadata": {
    "id": "mF3aB3pYJT8V"
   },
   "source": [
    "총 8문제 100점 만점 \n",
    "\n",
    "- 문제 1 10점 \n",
    "- 문제 4번 30점 \n",
    "- 문제 2,3,5,6,7,8번 각 10점 "
   ]
  },
  {
   "cell_type": "markdown",
   "metadata": {
    "id": "sVxmqfC_JT8V"
   },
   "source": [
    "채점시 문제를 수행했는지 여부는 정량평가를 진행하며, 수행한 내용에 대해서는 채점자의 주관이 개입된 정성평가가 진행됨을 알아주시면 감사하겠습니다."
   ]
  },
  {
   "cell_type": "markdown",
   "metadata": {
    "id": "DGj7cuCaJT8V"
   },
   "source": [
    "정답은 없으며, 데이터 분석가로서 본인이 분석한 내용을 상대방에게 잘 전달할 수 있도록 정리해주세요 🙂"
   ]
  },
  {
   "cell_type": "markdown",
   "metadata": {
    "id": "nXlcc7c0JT8W"
   },
   "source": [
    "---"
   ]
  },
  {
   "cell_type": "markdown",
   "metadata": {
    "id": "TPXSWFOOJT8W"
   },
   "source": [
    "## Data Download\n",
    "- https://www.kaggle.com/datasets/START-UMD/gtd"
   ]
  },
  {
   "cell_type": "markdown",
   "metadata": {
    "id": "MG-BJdzFJT8W"
   },
   "source": [
    "---"
   ]
  },
  {
   "cell_type": "markdown",
   "metadata": {
    "id": "5uQfzFqMJT8W"
   },
   "source": [
    "문제 1.  csv 파일에 저장된 세계 테러 데이터를 하나의 테이블에 저장하세요. \n",
    "\n",
    "- globalterrorismmdb_0718.csv - https://www.kaggle.com/datasets/START-UMD/gtd\n",
    "- pandas의 to_sql 함수 사용 (힌트 : create_engine)\n",
    "- Table name : origin_terror_data \n",
    "\n",
    "제출 1. Table 생성 및 조회 결과 : DESC origin_terror_data, SELECT  COUNT(*) FROM origin_terror_data\n",
    "\n",
    "제출 2. 관련 코드 및 실행 결과 (ipynb)\n",
    "\n"
   ]
  },
  {
   "cell_type": "code",
   "execution_count": null,
   "metadata": {
    "id": "vp7FhgpBJT8W",
    "outputId": "232830ba-d684-455f-b7a8-ad091568043e"
   },
   "outputs": [
    {
     "name": "stdout",
     "output_type": "stream",
     "text": [
      "[(181691,)]\n"
     ]
    }
   ],
   "source": [
    "##############################################################################################\n",
    "#  문제 1. 원본 데이터 (csv)를 데이터베이스로 변환하고 확인하기 \n",
    "#  globalterrorismdb_0718dist.csv -> origin_terror_data (table)\n",
    "#  Pandas 의 to_sql 사용 \n",
    "##############################################################################################\n",
    "\n",
    "##############################################################################################\n",
    "#  pip install pymysql\n",
    "#  pip install SQLAlchemy Flask-SQLAlchemy\n",
    "##############################################################################################\n",
    "\n",
    "import time\n",
    "import pandas as pd\n",
    "import pymysql\n",
    "from sqlalchemy import create_engine\n",
    "import configparser\n",
    "\n",
    "# 데이터 불러오기\n",
    "df = pd.read_csv('../data/terror.csv', encoding='ISO-8859-1')\n",
    "\n",
    "# DB 접속 엔진 객체 생성\n",
    "user = 'oneday'\n",
    "password = 'stella98'\n",
    "host = 'localhost'\n",
    "port = 3306\n",
    "database = 'test01'\n",
    "\n",
    "engine = create_engine(f'mysql+pymysql://{user}:{password}@{host}:{port}/{database}', encoding='utf-8')\n",
    "\n",
    "# DB 테이블 명(생성될 테이블 이름)\n",
    "table_name = \"origin_terror_data\"\n",
    "\n",
    "# DB에 DataFrame 적재\n",
    "df.to_sql(index = False, \n",
    "          name = table_name,\n",
    "          con = engine,\n",
    "          if_exists = 'append',\n",
    "          method = 'multi', \n",
    "          chunksize = 10000)\n",
    "\n",
    "records = engine.execute(\"SELECT COUNT(*) FROM origin_terror_data\").fetchall()\n",
    "print(records)"
   ]
  },
  {
   "cell_type": "code",
   "execution_count": null,
   "metadata": {
    "id": "-Md5whkLUe61"
   },
   "outputs": [],
   "source": [
    "# 230509 \n",
    "##############################################################################################\n",
    "#  문제 1. 원본 데이터 (csv)를 데이터베이스로 변환하고 확인하기 \n",
    "#  globalterrorismdb_0718dist.csv -> origin_terror_data (table)\n",
    "#  Pandas 의 to_sql 사용 \n",
    "##############################################################################################\n",
    "\n",
    "##############################################################################################\n",
    "#  pip install pymysql\n",
    "#  pip install SQLAlchemy Flask-SQLAlchemy\n",
    "##############################################################################################\n",
    "\n",
    "import time\n",
    "import pandas as pd\n",
    "import pymysql\n",
    "from sqlalchemy import create_engine\n",
    "import configparser\n",
    "\n",
    "# 데이터 불러오기\n",
    "df = pd.read_csv('globalterrorismdb_0718dist.csv', encoding='ISO-8859-1')\n",
    "\n",
    "# DB 접속 엔진 객체 생성\n",
    "user = 'root'\n",
    "password = 'password'\n",
    "host = 'localhost'\n",
    "port = 3306\n",
    "database = '과제를 할 데이터 베이스'\n",
    "\n",
    "engine = create_engine(f'mysql+pymysql://{user}:{password}@{host}:{port}/{database}?charset=utf8mb4')\n",
    "\n",
    "# DB 테이블 명(생성될 테이블 이름)\n",
    "table_name = \"origin_terror_data\"\n",
    "\n",
    "# DB에 DataFrame 적재\n",
    "df.to_sql(index = False, \n",
    "          name = table_name,\n",
    "          con = engine,\n",
    "          if_exists = 'append',\n",
    "          method = 'multi', \n",
    "          chunksize = 10000)\n",
    "\n",
    "conn = engine.connect()\n",
    "conn.close()"
   ]
  },
  {
   "cell_type": "markdown",
   "metadata": {
    "id": "u0NEPbf0JT8X"
   },
   "source": [
    "문제 2. origin_terror_data 에서 region, country 관련 데이터는 code 와 txt (name) 속성으로 정의되어 있습니다. \n",
    "\n",
    "문제 2-1. Region 및 Country 테이블을 그림과 같은 구조로 생성하세요. \n",
    "\n",
    "- origin_terror_data 를 분석하여 각 테이블의 데이터 타입을 정의하세요. \n",
    "- 문자열 데이터의 사이즈는 origin_terror_data 테이블에서 해당 데이터의 max length 를 쿼리로 체크하여 정의하세요. \n",
    "- Region 과 Country 데이터 사이의 관계를 파악하여 Foreign Key 를 설정하세요.\n",
    "\n",
    "참고> \n",
    "- Region.region_code     = origin_terror_data.region\n",
    "- Region.region_name     = origin_terror_data.region_txt\n",
    "- Country.country_code   = origin_terror_data.country\n",
    "- Country.country_name   = origin_terror_data.country_txt\n"
   ]
  },
  {
   "cell_type": "code",
   "execution_count": null,
   "metadata": {
    "id": "Zvc1LTmxJT8Y"
   },
   "outputs": [],
   "source": [
    "##############################################################################################\n",
    "#  문제 2. region / country / city 데이터 추출하여 데이터베이스로 변환하기 \n",
    "#  중복을 제거한 code - name 값 \n",
    "#  region - country - city 관계 정의 \n",
    "##############################################################################################\n",
    "import mysql.connector\n",
    "\n",
    "conn = mysql.connector.connect(\n",
    "    host = \"localhost\",\n",
    "    port = 3306,\n",
    "    user = \"root\",\n",
    "    password = \"stella98\",\n",
    "    database = \"test01 \"\n",
    ")\n",
    "cursor = conn.cursor(buffered=True)"
   ]
  },
  {
   "cell_type": "code",
   "execution_count": null,
   "metadata": {
    "id": "kCAUd7w0JT8Y",
    "outputId": "6e9dca29-d537-4fe6-d0be-e5e84b9a138d"
   },
   "outputs": [
    {
     "name": "stdout",
     "output_type": "stream",
     "text": [
      "[(27,)]\n"
     ]
    }
   ],
   "source": [
    "# region_txt 의 max length 체크 \n",
    "cursor.execute(\"select max(length(region_txt)) from origin_terror_data\")\n",
    "records = cursor.fetchall()\n",
    "print(records)\n"
   ]
  },
  {
   "cell_type": "code",
   "execution_count": null,
   "metadata": {
    "id": "V139xUuzJT8Y",
    "outputId": "63c479ad-173d-48b0-ca44-6a983d1ed835"
   },
   "outputs": [
    {
     "name": "stdout",
     "output_type": "stream",
     "text": [
      "[('region_code', b'int', 'NO', 'PRI', None, ''), ('region_name', b'varchar(32)', 'NO', '', None, '')]\n"
     ]
    }
   ],
   "source": [
    "# Region 테이블 만들기 \n",
    "sql = '''create table Region\n",
    "( \n",
    "       region_code int not null primary key,  \n",
    "       region_name varchar(32) not null\n",
    "); '''\n",
    "\n",
    "cursor.execute(sql)\n",
    "\n",
    "cursor.execute(\"desc Region\")\n",
    "records = cursor.fetchall()\n",
    "for item in records:\n",
    "    print(item)"
   ]
  },
  {
   "cell_type": "code",
   "execution_count": null,
   "metadata": {
    "id": "vGdJBsDPJT8Y",
    "outputId": "b429e34b-1417-47d4-c7c9-91dd78873586"
   },
   "outputs": [
    {
     "name": "stdout",
     "output_type": "stream",
     "text": [
      "[(32,)]\n"
     ]
    }
   ],
   "source": [
    "# country_txt 의 max length 체크 \n",
    "cursor.execute(\"select max(length(country_txt)) from origin_terror_data\")\n",
    "records = cursor.fetchall()\n",
    "print(records)"
   ]
  },
  {
   "cell_type": "code",
   "execution_count": null,
   "metadata": {
    "id": "PjpuhfdyJT8Z",
    "outputId": "7b331b8d-176d-47fa-a294-3baf36a4b48a"
   },
   "outputs": [
    {
     "name": "stdout",
     "output_type": "stream",
     "text": [
      "[('country_code', b'int', 'NO', 'PRI', None, ''), ('region_code', b'int', 'NO', 'MUL', None, ''), ('country_name', b'varchar(32)', 'NO', '', None, '')]\n"
     ]
    }
   ],
   "source": [
    "# Country 테이블 만들기 \n",
    "sql = '''create table Country\n",
    "(\n",
    "    country_code int not null primary key,\n",
    "    region_code int not null,\n",
    "    country_name varchar(32) not null,\n",
    "    FOREIGN KEY (region_code) REFERENCES Region(region_code)\n",
    "); '''\n",
    "\n",
    "cursor.execute(sql)\n",
    "\n",
    "cursor.execute(\"desc Country\")\n",
    "records = cursor.fetchall()\n",
    "for item in records:\n",
    "    print(item)"
   ]
  },
  {
   "cell_type": "markdown",
   "metadata": {
    "id": "n4vDkLdeJT8Z"
   },
   "source": [
    "문제 2-2. origin_terror_data 테이블에서 Region 및 Country 데이터를 추출하여 문제 2-1.에서 생성한 테이블에 입력하고 확인하세요.   \n",
    "\n",
    "- 중복을 제거한 Unique Data 를 추출하세요. \n",
    "- 데이터를 INSERT 할때 순서를 고민하세요. \n",
    "\n",
    "제출 3. Table 생성 및 조회 결과 : DESC Region, DESC Country\n",
    "\n",
    "제출 4. 관련 코드 및 실행 결과 (ipynb)"
   ]
  },
  {
   "cell_type": "code",
   "execution_count": null,
   "metadata": {
    "id": "JF9J8E1jJT8Z",
    "outputId": "8a8e1960-a3e8-482f-bc7a-4a8f76d9ab06"
   },
   "outputs": [
    {
     "name": "stdout",
     "output_type": "stream",
     "text": [
      "[(1, 'North America'), (2, 'Central America & Caribbean'), (3, 'South America'), (4, 'East Asia'), (5, 'Southeast Asia'), (6, 'South Asia'), (7, 'Central Asia'), (8, 'Western Europe'), (9, 'Eastern Europe'), (10, 'Middle East & North Africa'), (11, 'Sub-Saharan Africa'), (12, 'Australasia & Oceania')]\n"
     ]
    }
   ],
   "source": [
    "# Region 데이터 추출하기 \n",
    "cursor.execute(\"select region, region_txt from origin_terror_data group by region, region_txt order by region;\")\n",
    "records = cursor.fetchall()\n",
    "for item in records:\n",
    "    print(item)"
   ]
  },
  {
   "cell_type": "code",
   "execution_count": null,
   "metadata": {
    "id": "Ri2xQvBSJT8Z",
    "outputId": "4e21b0f9-c6c1-4c29-f7af-d4cdb532bd28"
   },
   "outputs": [
    {
     "name": "stdout",
     "output_type": "stream",
     "text": [
      "[(12,)]\n"
     ]
    }
   ],
   "source": [
    "# Region 테이블에 INSERT \n",
    "sql = '''INSERT INTO Region (region_code, region_name)\n",
    "         VALUES (%s, %s)'''\n",
    "\n",
    "for item in records:\n",
    "    cursor.execute(sql, item)\n",
    "    conn.commit()\n",
    "\n",
    "cursor.execute(\"SELECT COUNT(*) FROM Region\")\n",
    "print(cursor.fetchall())"
   ]
  },
  {
   "cell_type": "code",
   "execution_count": null,
   "metadata": {
    "id": "lolLV9eRJT8Z",
    "outputId": "fa4a6441-ad6b-4d68-ef15-35e13b6bec0d"
   },
   "outputs": [
    {
     "name": "stdout",
     "output_type": "stream",
     "text": [
      "[(4, 6, 'Afghanistan'), (5, 9, 'Albania'), (6, 10, 'Algeria'), (7, 8, 'Andorra'), (8, 11, 'Angola'), (10, 2, 'Antigua and Barbuda'), (11, 3, 'Argentina'), (12, 7, 'Armenia'), (14, 12, 'Australia'), (15, 8, 'Austria'), (16, 7, 'Azerbaijan'), (17, 2, 'Bahamas'), (18, 10, 'Bahrain'), (19, 6, 'Bangladesh'), (20, 2, 'Barbados'), (21, 8, 'Belgium'), (22, 2, 'Belize'), (23, 11, 'Benin'), (25, 6, 'Bhutan'), (26, 3, 'Bolivia'), (28, 9, 'Bosnia-Herzegovina'), (29, 11, 'Botswana'), (30, 3, 'Brazil'), (31, 5, 'Brunei'), (32, 9, 'Bulgaria'), (33, 11, 'Burkina Faso'), (34, 11, 'Burundi'), (35, 9, 'Belarus'), (36, 5, 'Cambodia'), (37, 11, 'Cameroon'), (38, 1, 'Canada'), (41, 11, 'Central African Republic'), (42, 11, 'Chad'), (43, 3, 'Chile'), (44, 4, 'China'), (45, 3, 'Colombia'), (46, 11, 'Comoros'), (47, 11, 'Republic of the Congo'), (49, 2, 'Costa Rica'), (50, 9, 'Croatia'), (51, 2, 'Cuba'), (53, 8, 'Cyprus'), (54, 9, 'Czech Republic'), (55, 8, 'Denmark'), (56, 11, 'Djibouti'), (57, 2, 'Dominica'), (58, 2, 'Dominican Republic'), (59, 3, 'Ecuador'), (60, 10, 'Egypt'), (61, 2, 'El Salvador'), (62, 11, 'Equatorial Guinea'), (63, 11, 'Eritrea'), (64, 9, 'Estonia'), (65, 11, 'Ethiopia'), (66, 3, 'Falkland Islands'), (67, 12, 'Fiji'), (68, 8, 'Finland'), (69, 8, 'France'), (70, 3, 'French Guiana'), (71, 12, 'French Polynesia'), (72, 11, 'Gabon'), (73, 11, 'Gambia'), (74, 7, 'Georgia'), (75, 8, 'Germany'), (76, 11, 'Ghana'), (78, 8, 'Greece'), (80, 2, 'Grenada'), (81, 2, 'Guadeloupe'), (83, 2, 'Guatemala'), (84, 11, 'Guinea'), (85, 11, 'Guinea-Bissau'), (86, 3, 'Guyana'), (87, 2, 'Haiti'), (88, 2, 'Honduras'), (89, 4, 'Hong Kong'), (90, 9, 'Hungary'), (91, 8, 'Iceland'), (92, 6, 'India'), (93, 5, 'Indonesia'), (94, 10, 'Iran'), (95, 10, 'Iraq'), (96, 8, 'Ireland'), (97, 10, 'Israel'), (98, 8, 'Italy'), (99, 11, 'Ivory Coast'), (100, 2, 'Jamaica'), (101, 4, 'Japan'), (102, 10, 'Jordan'), (103, 7, 'Kazakhstan'), (104, 11, 'Kenya'), (106, 10, 'Kuwait'), (107, 7, 'Kyrgyzstan'), (108, 5, 'Laos'), (109, 9, 'Latvia'), (110, 10, 'Lebanon'), (111, 11, 'Lesotho'), (112, 11, 'Liberia'), (113, 10, 'Libya'), (115, 9, 'Lithuania'), (116, 8, 'Luxembourg'), (117, 4, 'Macau'), (118, 9, 'Macedonia'), (119, 11, 'Madagascar'), (120, 11, 'Malawi'), (121, 5, 'Malaysia'), (122, 6, 'Maldives'), (123, 11, 'Mali'), (124, 8, 'Malta'), (127, 2, 'Martinique'), (128, 11, 'Mauritania'), (129, 6, 'Mauritius'), (130, 1, 'Mexico'), (132, 9, 'Moldova'), (136, 10, 'Morocco'), (137, 11, 'Mozambique'), (138, 5, 'Myanmar'), (139, 11, 'Namibia'), (141, 6, 'Nepal'), (142, 8, 'Netherlands'), (143, 12, 'New Caledonia'), (144, 12, 'New Zealand'), (145, 2, 'Nicaragua'), (146, 11, 'Niger'), (147, 11, 'Nigeria'), (149, 4, 'North Korea'), (151, 8, 'Norway'), (153, 6, 'Pakistan'), (155, 10, 'West Bank and Gaza Strip'), (156, 2, 'Panama'), (157, 12, 'Papua New Guinea'), (158, 3, 'Paraguay'), (159, 3, 'Peru'), (160, 5, 'Philippines'), (161, 9, 'Poland'), (162, 8, 'Portugal'), (164, 10, 'Qatar'), (166, 9, 'Romania'), (167, 9, 'Russia'), (168, 11, 'Rwanda'), (173, 10, 'Saudi Arabia'), (174, 11, 'Senegal'), (175, 9, 'Serbia-Montenegro'), (176, 11, 'Seychelles'), (177, 11, 'Sierra Leone'), (178, 5, 'Singapore'), (179, 9, 'Slovak Republic'), (180, 9, 'Slovenia'), (181, 12, 'Solomon Islands'), (182, 11, 'Somalia'), (183, 11, 'South Africa'), (184, 4, 'South Korea'), (185, 8, 'Spain'), (186, 6, 'Sri Lanka'), (189, 2, 'St. Kitts and Nevis'), (190, 2, 'St. Lucia'), (195, 11, 'Sudan'), (196, 3, 'Suriname'), (197, 11, 'Swaziland'), (198, 8, 'Sweden'), (199, 8, 'Switzerland'), (200, 10, 'Syria'), (201, 4, 'Taiwan'), (202, 7, 'Tajikistan'), (203, 11, 'Tanzania'), (204, 11, 'Togo'), (205, 5, 'Thailand'), (207, 2, 'Trinidad and Tobago'), (208, 10, 'Tunisia'), (209, 10, 'Turkey'), (210, 7, 'Turkmenistan'), (213, 11, 'Uganda'), (214, 9, 'Ukraine'), (215, 10, 'United Arab Emirates'), (217, 1, 'United States'), (218, 3, 'Uruguay'), (219, 7, 'Uzbekistan'), (220, 12, 'Vanuatu'), (221, 8, 'Vatican City'), (222, 3, 'Venezuela'), (223, 5, 'Vietnam'), (226, 12, 'Wallis and Futuna'), (228, 10, 'Yemen'), (229, 11, 'Democratic Republic of the Congo'), (230, 11, 'Zambia'), (231, 11, 'Zimbabwe'), (235, 9, 'Yugoslavia'), (236, 9, 'Czechoslovakia'), (347, 5, 'East Timor'), (349, 10, 'Western Sahara'), (359, 9, 'Soviet Union'), (362, 8, 'West Germany (FRG)'), (377, 10, 'North Yemen'), (403, 11, 'Rhodesia'), (406, 10, 'South Yemen'), (422, 10, 'International'), (428, 5, 'South Vietnam'), (499, 9, 'East Germany (GDR)'), (532, 12, 'New Hebrides'), (603, 8, 'United Kingdom'), (604, 11, 'Zaire'), (605, 11, \"People's Republic of the Congo\"), (1001, 9, 'Serbia'), (1002, 9, 'Montenegro'), (1003, 9, 'Kosovo'), (1004, 11, 'South Sudan')]\n"
     ]
    }
   ],
   "source": [
    "# Country 데이터 추출하기 \n",
    "cursor.execute(\"select country, region, country_txt from origin_terror_data group by region, country, country_txt order by country, region;\")\n",
    "records = cursor.fetchall()\n",
    "for item in records:\n",
    "    print(item)"
   ]
  },
  {
   "cell_type": "code",
   "execution_count": null,
   "metadata": {
    "id": "w_pfdt-3JT8Z",
    "outputId": "bbe2b9ca-a0c6-4555-d8f8-3c6d954bfd36"
   },
   "outputs": [
    {
     "name": "stdout",
     "output_type": "stream",
     "text": [
      "(4, 6, 'Afghanistan')\n",
      "(5, 9, 'Albania')\n",
      "(6, 10, 'Algeria')\n",
      "(7, 8, 'Andorra')\n",
      "(8, 11, 'Angola')\n",
      "(10, 2, 'Antigua and Barbuda')\n",
      "(11, 3, 'Argentina')\n",
      "(12, 7, 'Armenia')\n",
      "(14, 12, 'Australia')\n",
      "(15, 8, 'Austria')\n",
      "(16, 7, 'Azerbaijan')\n",
      "(17, 2, 'Bahamas')\n",
      "(18, 10, 'Bahrain')\n",
      "(19, 6, 'Bangladesh')\n",
      "(20, 2, 'Barbados')\n",
      "(21, 8, 'Belgium')\n",
      "(22, 2, 'Belize')\n",
      "(23, 11, 'Benin')\n",
      "(25, 6, 'Bhutan')\n",
      "(26, 3, 'Bolivia')\n",
      "(28, 9, 'Bosnia-Herzegovina')\n",
      "(29, 11, 'Botswana')\n",
      "(30, 3, 'Brazil')\n",
      "(31, 5, 'Brunei')\n",
      "(32, 9, 'Bulgaria')\n",
      "(33, 11, 'Burkina Faso')\n",
      "(34, 11, 'Burundi')\n",
      "(35, 9, 'Belarus')\n",
      "(36, 5, 'Cambodia')\n",
      "(37, 11, 'Cameroon')\n",
      "(38, 1, 'Canada')\n",
      "(41, 11, 'Central African Republic')\n",
      "(42, 11, 'Chad')\n",
      "(43, 3, 'Chile')\n",
      "(44, 4, 'China')\n",
      "(45, 3, 'Colombia')\n",
      "(46, 11, 'Comoros')\n",
      "(47, 11, 'Republic of the Congo')\n",
      "(49, 2, 'Costa Rica')\n",
      "(50, 9, 'Croatia')\n",
      "(51, 2, 'Cuba')\n",
      "(53, 8, 'Cyprus')\n",
      "(54, 9, 'Czech Republic')\n",
      "(55, 8, 'Denmark')\n",
      "(56, 11, 'Djibouti')\n",
      "(57, 2, 'Dominica')\n",
      "(58, 2, 'Dominican Republic')\n",
      "(59, 3, 'Ecuador')\n",
      "(60, 10, 'Egypt')\n",
      "(61, 2, 'El Salvador')\n",
      "(62, 11, 'Equatorial Guinea')\n",
      "(63, 11, 'Eritrea')\n",
      "(64, 9, 'Estonia')\n",
      "(65, 11, 'Ethiopia')\n",
      "(66, 3, 'Falkland Islands')\n",
      "(67, 12, 'Fiji')\n",
      "(68, 8, 'Finland')\n",
      "(69, 8, 'France')\n",
      "(70, 3, 'French Guiana')\n",
      "(71, 12, 'French Polynesia')\n",
      "(72, 11, 'Gabon')\n",
      "(73, 11, 'Gambia')\n",
      "(74, 7, 'Georgia')\n",
      "(75, 8, 'Germany')\n",
      "(76, 11, 'Ghana')\n",
      "(78, 8, 'Greece')\n",
      "(80, 2, 'Grenada')\n",
      "(81, 2, 'Guadeloupe')\n",
      "(83, 2, 'Guatemala')\n",
      "(84, 11, 'Guinea')\n",
      "(85, 11, 'Guinea-Bissau')\n",
      "(86, 3, 'Guyana')\n",
      "(87, 2, 'Haiti')\n",
      "(88, 2, 'Honduras')\n",
      "(89, 4, 'Hong Kong')\n",
      "(90, 9, 'Hungary')\n",
      "(91, 8, 'Iceland')\n",
      "(92, 6, 'India')\n",
      "(93, 5, 'Indonesia')\n",
      "(94, 10, 'Iran')\n",
      "(95, 10, 'Iraq')\n",
      "(96, 8, 'Ireland')\n",
      "(97, 10, 'Israel')\n",
      "(98, 8, 'Italy')\n",
      "(99, 11, 'Ivory Coast')\n",
      "(100, 2, 'Jamaica')\n",
      "(101, 4, 'Japan')\n",
      "(102, 10, 'Jordan')\n",
      "(103, 7, 'Kazakhstan')\n",
      "(104, 11, 'Kenya')\n",
      "(106, 10, 'Kuwait')\n",
      "(107, 7, 'Kyrgyzstan')\n",
      "(108, 5, 'Laos')\n",
      "(109, 9, 'Latvia')\n",
      "(110, 10, 'Lebanon')\n",
      "(111, 11, 'Lesotho')\n",
      "(112, 11, 'Liberia')\n",
      "(113, 10, 'Libya')\n",
      "(115, 9, 'Lithuania')\n",
      "(116, 8, 'Luxembourg')\n",
      "(117, 4, 'Macau')\n",
      "(118, 9, 'Macedonia')\n",
      "(119, 11, 'Madagascar')\n",
      "(120, 11, 'Malawi')\n",
      "(121, 5, 'Malaysia')\n",
      "(122, 6, 'Maldives')\n",
      "(123, 11, 'Mali')\n",
      "(124, 8, 'Malta')\n",
      "(127, 2, 'Martinique')\n",
      "(128, 11, 'Mauritania')\n",
      "(129, 6, 'Mauritius')\n",
      "(130, 1, 'Mexico')\n",
      "(132, 9, 'Moldova')\n",
      "(136, 10, 'Morocco')\n",
      "(137, 11, 'Mozambique')\n",
      "(138, 5, 'Myanmar')\n",
      "(139, 11, 'Namibia')\n",
      "(141, 6, 'Nepal')\n",
      "(142, 8, 'Netherlands')\n",
      "(143, 12, 'New Caledonia')\n",
      "(144, 12, 'New Zealand')\n",
      "(145, 2, 'Nicaragua')\n",
      "(146, 11, 'Niger')\n",
      "(147, 11, 'Nigeria')\n",
      "(149, 4, 'North Korea')\n",
      "(151, 8, 'Norway')\n",
      "(153, 6, 'Pakistan')\n",
      "(155, 10, 'West Bank and Gaza Strip')\n",
      "(156, 2, 'Panama')\n",
      "(157, 12, 'Papua New Guinea')\n",
      "(158, 3, 'Paraguay')\n",
      "(159, 3, 'Peru')\n",
      "(160, 5, 'Philippines')\n",
      "(161, 9, 'Poland')\n",
      "(162, 8, 'Portugal')\n",
      "(164, 10, 'Qatar')\n",
      "(166, 9, 'Romania')\n",
      "(167, 9, 'Russia')\n",
      "(168, 11, 'Rwanda')\n",
      "(173, 10, 'Saudi Arabia')\n",
      "(174, 11, 'Senegal')\n",
      "(175, 9, 'Serbia-Montenegro')\n",
      "(176, 11, 'Seychelles')\n",
      "(177, 11, 'Sierra Leone')\n",
      "(178, 5, 'Singapore')\n",
      "(179, 9, 'Slovak Republic')\n",
      "(180, 9, 'Slovenia')\n",
      "(181, 12, 'Solomon Islands')\n",
      "(182, 11, 'Somalia')\n",
      "(183, 11, 'South Africa')\n",
      "(184, 4, 'South Korea')\n",
      "(185, 8, 'Spain')\n",
      "(186, 6, 'Sri Lanka')\n",
      "(189, 2, 'St. Kitts and Nevis')\n",
      "(190, 2, 'St. Lucia')\n",
      "(195, 11, 'Sudan')\n",
      "(196, 3, 'Suriname')\n",
      "(197, 11, 'Swaziland')\n",
      "(198, 8, 'Sweden')\n",
      "(199, 8, 'Switzerland')\n",
      "(200, 10, 'Syria')\n",
      "(201, 4, 'Taiwan')\n",
      "(202, 7, 'Tajikistan')\n",
      "(203, 11, 'Tanzania')\n",
      "(204, 11, 'Togo')\n",
      "(205, 5, 'Thailand')\n",
      "(207, 2, 'Trinidad and Tobago')\n",
      "(208, 10, 'Tunisia')\n",
      "(209, 10, 'Turkey')\n",
      "(210, 7, 'Turkmenistan')\n",
      "(213, 11, 'Uganda')\n",
      "(214, 9, 'Ukraine')\n",
      "(215, 10, 'United Arab Emirates')\n",
      "(217, 1, 'United States')\n",
      "(218, 3, 'Uruguay')\n",
      "(219, 7, 'Uzbekistan')\n",
      "(220, 12, 'Vanuatu')\n",
      "(221, 8, 'Vatican City')\n",
      "(222, 3, 'Venezuela')\n",
      "(223, 5, 'Vietnam')\n",
      "(226, 12, 'Wallis and Futuna')\n",
      "(228, 10, 'Yemen')\n",
      "(229, 11, 'Democratic Republic of the Congo')\n",
      "(230, 11, 'Zambia')\n",
      "(231, 11, 'Zimbabwe')\n",
      "(235, 9, 'Yugoslavia')\n",
      "(236, 9, 'Czechoslovakia')\n",
      "(347, 5, 'East Timor')\n",
      "(349, 10, 'Western Sahara')\n",
      "(359, 9, 'Soviet Union')\n",
      "(362, 8, 'West Germany (FRG)')\n",
      "(377, 10, 'North Yemen')\n",
      "(403, 11, 'Rhodesia')\n",
      "(406, 10, 'South Yemen')\n",
      "(422, 10, 'International')\n",
      "(428, 5, 'South Vietnam')\n",
      "(499, 9, 'East Germany (GDR)')\n",
      "(532, 12, 'New Hebrides')\n",
      "(603, 8, 'United Kingdom')\n",
      "(604, 11, 'Zaire')\n",
      "(605, 11, \"People's Republic of the Congo\")\n",
      "(1001, 9, 'Serbia')\n",
      "(1002, 9, 'Montenegro')\n",
      "(1003, 9, 'Kosovo')\n",
      "(1004, 11, 'South Sudan')\n"
     ]
    }
   ],
   "source": [
    "# Country 테이블에 INSERT \n",
    "sql = '''INSERT INTO Country (country_code, region_code, country_name)\n",
    "         VALUES (%s, %s, %s)'''\n",
    "\n",
    "for item in records:\n",
    "    cursor.execute(sql, item)\n",
    "    conn.commit()\n",
    "\n",
    "cursor.execute(\"SELECT * FROM Country\")\n",
    "records = cursor.fetchall()\n",
    "for item in records:\n",
    "    print(item)"
   ]
  },
  {
   "cell_type": "markdown",
   "metadata": {
    "id": "w0hE6YNSJT8Z"
   },
   "source": [
    "문제 3.  origin_terror_data 에서 attack type, target type, weapon type 관련 데이터는 code 와 txt 속성으로 정의되어 있습니다.  \n",
    "\n",
    "문제 3-1. AttackType, TargetType, WeaponType 테이블을 그림과 같은 구조로 생성하세요. \n",
    "\n",
    "- origin_terror_data 를 분석하여 각 테이블의 데이터 타입을 정의하세요. \n",
    "- 문자열 데이터의 사이즈는 origin_terror_data 테이블에서 해당 데이터의 max length 를 쿼리로 체크하여 정의하세요. \n",
    "\n",
    "참고>\n",
    "- AttackType.attacktype_code    = origin_terror_data.attacktype1\n",
    "- AttackType.attacktype_desc    = origin_terror_data.attacktype1_txt \n",
    "- TargetType.targtype_code      = origin_terror_data.targtype1\n",
    "- TargetType.targtype_desc      = origin_terror_data.targtype1_txt\n",
    "- WeaponType.weaptype_code      = origin_terror_data.weaptype1\n",
    "- WeaponType.weaptype_desc      = origin_terror_data.weaptype1_txt "
   ]
  },
  {
   "cell_type": "code",
   "execution_count": null,
   "metadata": {
    "id": "-eibSHSwJT8Z",
    "outputId": "c941643e-a3d7-48c0-a1c8-3e19e679f8e8"
   },
   "outputs": [
    {
     "name": "stdout",
     "output_type": "stream",
     "text": [
      "[(35,)]\n"
     ]
    }
   ],
   "source": [
    "# attacktype1 의 max length 체크 \n",
    "cursor.execute(\"select max(length(attacktype1_txt)) from origin_terror_data\")\n",
    "records = cursor.fetchall()\n",
    "print(records)"
   ]
  },
  {
   "cell_type": "code",
   "execution_count": null,
   "metadata": {
    "id": "t_tOZvNDJT8a",
    "outputId": "dac8dabf-4299-4309-d403-29ac42418eb9"
   },
   "outputs": [
    {
     "name": "stdout",
     "output_type": "stream",
     "text": [
      "[('attacktype_code', b'int', 'NO', 'PRI', None, ''), ('attacktype_desc', b'varchar(35)', 'NO', '', None, '')]\n"
     ]
    }
   ],
   "source": [
    "# AttackType 테이블 만들기 \n",
    "sql = '''create table AttackType\n",
    "(\n",
    "    attacktype_code int not null primary key, \n",
    "    attacktype_desc varchar(35) not null\n",
    "); '''\n",
    "\n",
    "cursor.execute(sql)\n",
    "\n",
    "cursor.execute(\"desc AttackType\")\n",
    "records = cursor.fetchall()\n",
    "for item in records:\n",
    "    print(item)"
   ]
  },
  {
   "cell_type": "code",
   "execution_count": null,
   "metadata": {
    "id": "T0_PVgrnJT8a",
    "outputId": "b8ec1eb8-9646-40a1-fc51-3cb15572e635"
   },
   "outputs": [
    {
     "name": "stdout",
     "output_type": "stream",
     "text": [
      "[(30,)]\n"
     ]
    }
   ],
   "source": [
    "# targettype1 의 max length 체크 \n",
    "cursor.execute(\"select max(length(targtype1_txt)) from origin_terror_data\")\n",
    "records = cursor.fetchall()\n",
    "print(records)"
   ]
  },
  {
   "cell_type": "code",
   "execution_count": null,
   "metadata": {
    "id": "okbGtTHWJT8a",
    "outputId": "b345a622-8d2b-4256-c064-4c6cb0020902"
   },
   "outputs": [
    {
     "name": "stdout",
     "output_type": "stream",
     "text": [
      "[('targtype_code', b'int', 'NO', 'PRI', None, ''), ('targtype_desc', b'varchar(32)', 'NO', '', None, '')]\n"
     ]
    }
   ],
   "source": [
    "# TargetType 테이블 만들기 \n",
    "sql = '''create table TargetType\n",
    "(\n",
    "    targtype_code int not null primary key, \n",
    "    targtype_desc varchar(32) not null\n",
    "); '''\n",
    "\n",
    "cursor.execute(sql)\n",
    "\n",
    "cursor.execute(\"desc TargetType\")\n",
    "records = cursor.fetchall()\n",
    "for item in records:\n",
    "    print(item)"
   ]
  },
  {
   "cell_type": "code",
   "execution_count": null,
   "metadata": {
    "id": "pi3aklScJT8a",
    "outputId": "a2ca5d6a-798c-417f-81d3-1ffd351bca66"
   },
   "outputs": [
    {
     "name": "stdout",
     "output_type": "stream",
     "text": [
      "[(75,)]\n"
     ]
    }
   ],
   "source": [
    "# weaptype1 의 max length 체크 \n",
    "cursor.execute(\"select max(length(weaptype1_txt)) from origin_terror_data\")\n",
    "records = cursor.fetchall()\n",
    "print(records)"
   ]
  },
  {
   "cell_type": "code",
   "execution_count": null,
   "metadata": {
    "id": "tSSvqMNBJT8a",
    "outputId": "5b2bb192-5979-45a7-b90e-d944b3404b26"
   },
   "outputs": [
    {
     "name": "stdout",
     "output_type": "stream",
     "text": [
      "[('weaptype_code', b'int', 'NO', 'PRI', None, ''), ('weaptype_desc', b'varchar(80)', 'NO', '', None, '')]\n"
     ]
    }
   ],
   "source": [
    "# WeaponType 테이블 만들기 \n",
    "sql = '''create table WeaponType\n",
    "(\n",
    "    weaptype_code int not null primary key, \n",
    "    weaptype_desc varchar(80) not null\n",
    "); '''\n",
    "\n",
    "cursor.execute(sql)\n",
    "\n",
    "cursor.execute(\"desc WeaponType\")\n",
    "records = cursor.fetchall()\n",
    "for item in records:\n",
    "    print(item)"
   ]
  },
  {
   "cell_type": "markdown",
   "metadata": {
    "id": "RZr9ozoHJT8a"
   },
   "source": [
    "문제 3-2. origin_terror_data 테이블에서 Attack Type, Target Type, Weapon Type 데이터를 추출하여 문제 3-1.에서 생성한 테이블에 입력하고 확인하세요.   \n",
    "\n",
    "- 중복을 제거한 Unique Data 를 추출하세요. \n",
    "- 데이터를 INSERT 할때 순서를 고민하세요.\n",
    "\n",
    "제출 5. Table 생성 및 조회 결과 : DESC AttackType, DESC TargetType, WeaponType\n",
    "\n",
    "제출 6. 관련 코드 및 실행 결과 (ipynb) "
   ]
  },
  {
   "cell_type": "code",
   "execution_count": null,
   "metadata": {
    "id": "lYBeISIiJT8a",
    "outputId": "dcebc63b-a792-404c-b27e-ae9727467f87"
   },
   "outputs": [
    {
     "name": "stdout",
     "output_type": "stream",
     "text": [
      "[(1, 'Assassination'), (2, 'Armed Assault'), (3, 'Bombing/Explosion'), (4, 'Hijacking'), (5, 'Hostage Taking (Barricade Incident)'), (6, 'Hostage Taking (Kidnapping)'), (7, 'Facility/Infrastructure Attack'), (8, 'Unarmed Assault'), (9, 'Unknown')]\n"
     ]
    }
   ],
   "source": [
    "# attacktype1 데이터 추출하기 \n",
    "cursor.execute(\"select attacktype1, attacktype1_txt from origin_terror_data group by attacktype1, attacktype1_txt order by attacktype1\")\n",
    "records = cursor.fetchall()\n",
    "for item in records:\n",
    "    print(item)"
   ]
  },
  {
   "cell_type": "code",
   "execution_count": null,
   "metadata": {
    "id": "wzgj2GscJT8a",
    "outputId": "143a46c4-9505-4068-9ef2-3543ab3c612e"
   },
   "outputs": [
    {
     "name": "stdout",
     "output_type": "stream",
     "text": [
      "(1, 'Assassination')\n",
      "(2, 'Armed Assault')\n",
      "(3, 'Bombing/Explosion')\n",
      "(4, 'Hijacking')\n",
      "(5, 'Hostage Taking (Barricade Incident)')\n",
      "(6, 'Hostage Taking (Kidnapping)')\n",
      "(7, 'Facility/Infrastructure Attack')\n",
      "(8, 'Unarmed Assault')\n",
      "(9, 'Unknown')\n"
     ]
    }
   ],
   "source": [
    "# AttackType 테이블에 INSERT \n",
    "sql = '''INSERT INTO AttackType (attacktype_code, attacktype_desc)\n",
    "         VALUES (%s, %s)'''\n",
    "\n",
    "for item in records:\n",
    "    cursor.execute(sql, item)\n",
    "    conn.commit()\n",
    "\n",
    "cursor.execute(\"SELECT * FROM AttackType\")\n",
    "records = cursor.fetchall()\n",
    "for item in records:\n",
    "    print(item)"
   ]
  },
  {
   "cell_type": "code",
   "execution_count": null,
   "metadata": {
    "id": "KhDtgUFpJT8b",
    "outputId": "35486b08-1c94-4fd1-9c6e-726df7575850"
   },
   "outputs": [
    {
     "name": "stdout",
     "output_type": "stream",
     "text": [
      "(1, 'Business')\n",
      "(2, 'Government (General)')\n",
      "(3, 'Police')\n",
      "(4, 'Military')\n",
      "(5, 'Abortion Related')\n",
      "(6, 'Airports & Aircraft')\n",
      "(7, 'Government (Diplomatic)')\n",
      "(8, 'Educational Institution')\n",
      "(9, 'Food or Water Supply')\n",
      "(10, 'Journalists & Media')\n",
      "(11, 'Maritime')\n",
      "(12, 'NGO')\n",
      "(13, 'Other')\n",
      "(14, 'Private Citizens & Property')\n",
      "(15, 'Religious Figures/Institutions')\n",
      "(16, 'Telecommunication')\n",
      "(17, 'Terrorists/Non-State Militia')\n",
      "(18, 'Tourists')\n",
      "(19, 'Transportation')\n",
      "(20, 'Unknown')\n",
      "(21, 'Utilities')\n",
      "(22, 'Violent Political Party')\n"
     ]
    }
   ],
   "source": [
    "# targtype1 데이터 추출하기 \n",
    "cursor.execute(\"select targtype1, targtype1_txt from origin_terror_data group by targtype1, targtype1_txt order by targtype1\")\n",
    "records = cursor.fetchall()\n",
    "for item in records:\n",
    "    print(item)"
   ]
  },
  {
   "cell_type": "code",
   "execution_count": null,
   "metadata": {
    "id": "uFqn8rCeJT8b",
    "outputId": "dec17a3e-9ff8-4c7c-ab5b-7f4b941a40e3"
   },
   "outputs": [
    {
     "name": "stdout",
     "output_type": "stream",
     "text": [
      "(1, 'Business')\n",
      "(2, 'Government (General)')\n",
      "(3, 'Police')\n",
      "(4, 'Military')\n",
      "(5, 'Abortion Related')\n",
      "(6, 'Airports & Aircraft')\n",
      "(7, 'Government (Diplomatic)')\n",
      "(8, 'Educational Institution')\n",
      "(9, 'Food or Water Supply')\n",
      "(10, 'Journalists & Media')\n",
      "(11, 'Maritime')\n",
      "(12, 'NGO')\n",
      "(13, 'Other')\n",
      "(14, 'Private Citizens & Property')\n",
      "(15, 'Religious Figures/Institutions')\n",
      "(16, 'Telecommunication')\n",
      "(17, 'Terrorists/Non-State Militia')\n",
      "(18, 'Tourists')\n",
      "(19, 'Transportation')\n",
      "(20, 'Unknown')\n",
      "(21, 'Utilities')\n",
      "(22, 'Violent Political Party')\n"
     ]
    }
   ],
   "source": [
    "# TargetType 테이블에 INSERT \n",
    "sql = '''INSERT INTO TargetType (targtype_code, targtype_desc)\n",
    "         VALUES (%s, %s)'''\n",
    "\n",
    "for item in records:\n",
    "    cursor.execute(sql, item)\n",
    "    conn.commit()\n",
    "\n",
    "cursor.execute(\"SELECT * FROM TargetType\")\n",
    "records = cursor.fetchall()\n",
    "for item in records:\n",
    "    print(item)\n",
    "\n",
    "# ALTER TABLE tablename\n",
    "# CHANGE COLUMN old_columnname new_columnname new_datatype;"
   ]
  },
  {
   "cell_type": "code",
   "execution_count": null,
   "metadata": {
    "id": "QUSbr9SNJT8b",
    "outputId": "b312dea2-83e5-4e2b-93d1-03842afee1f5"
   },
   "outputs": [
    {
     "name": "stdout",
     "output_type": "stream",
     "text": [
      "(1, 'Biological')\n",
      "(2, 'Chemical')\n",
      "(3, 'Radiological')\n",
      "(5, 'Firearms')\n",
      "(6, 'Explosives')\n",
      "(7, 'Fake Weapons')\n",
      "(8, 'Incendiary')\n",
      "(9, 'Melee')\n",
      "(10, 'Vehicle (not to include vehicle-borne explosives, i.e., car or truck bombs)')\n",
      "(11, 'Sabotage Equipment')\n",
      "(12, 'Other')\n",
      "(13, 'Unknown')\n"
     ]
    }
   ],
   "source": [
    "# weaptype1 데이터 추출하기 \n",
    "cursor.execute(\"select weaptype1, weaptype1_txt from origin_terror_data group by weaptype1, weaptype1_txt order by weaptype1\")\n",
    "records = cursor.fetchall()\n",
    "for item in records:\n",
    "    print(item)"
   ]
  },
  {
   "cell_type": "code",
   "execution_count": null,
   "metadata": {
    "id": "FmAWju14JT8b",
    "outputId": "56c5a667-4649-4ed8-b9f8-17ea4592b463"
   },
   "outputs": [
    {
     "name": "stdout",
     "output_type": "stream",
     "text": [
      "(1, 'Biological')\n",
      "(2, 'Chemical')\n",
      "(3, 'Radiological')\n",
      "(5, 'Firearms')\n",
      "(6, 'Explosives')\n",
      "(7, 'Fake Weapons')\n",
      "(8, 'Incendiary')\n",
      "(9, 'Melee')\n",
      "(10, 'Vehicle (not to include vehicle-borne explosives, i.e., car or truck bombs)')\n",
      "(11, 'Sabotage Equipment')\n",
      "(12, 'Other')\n",
      "(13, 'Unknown')\n"
     ]
    }
   ],
   "source": [
    "# WeaponType 테이블에 INSERT \n",
    "sql = '''INSERT INTO WeaponType (weaptype_code, weaptype_desc)\n",
    "         VALUES (%s, %s)'''\n",
    "\n",
    "for item in records:\n",
    "    cursor.execute(sql, item)\n",
    "    conn.commit()\n",
    "\n",
    "cursor.execute(\"SELECT * FROM WeaponType\")\n",
    "records = cursor.fetchall()\n",
    "for item in records:\n",
    "    print(item)"
   ]
  },
  {
   "cell_type": "markdown",
   "metadata": {
    "id": "2eNL5tF2JT8b"
   },
   "source": [
    "문제 4. TerrorData 테이블을 만들고 앞서 만들어둔 테이블과 관계를 설정하도록 하겠습니다. \n",
    "문제 4-1. TerrorData 테이블을 앞의 그림과 같이 생성하세요. \n",
    "\n",
    "- origin_terror_data 를 분석하여 데이터 타입을 정의하세요. \n",
    "- 문자열 데이터의 사이즈는 origin_terror_data 테이블에서 해당 데이터의 max length 를 쿼리로 체크하여 정의하세요. \n",
    "\n",
    "참고> \n",
    "- TerrorData.terror id : Auto Increment \n",
    "- TerrorData.city_name    = origin_terror_data.city\n",
    "- TerrorData.target       = orgin_terror_data.target1\n",
    "- TerrorData.group_name   = origin_terror_data.gname\n",
    "- TerrorData.kill_count   = origin_terror_data.nkill\n",
    "- TerrorData.wound_count  = origin_terror_data.nwound\n",
    "- TerrorData.motive       = origin_terror_data.motive\n",
    "- TerrorData.summary      = origin_terror_data.summary\n",
    "- TerrorData.latitude     = origin_terror_data_latitude\n",
    "- TerrorData.longitude    = origin_terror_data_longitude\n",
    "- TerrorData.terror_date  = origin_terror_data.iyear + origin_terror_Data.imonth + origin_terror_data.iday (Date Type)"
   ]
  },
  {
   "cell_type": "code",
   "execution_count": null,
   "metadata": {
    "id": "G1SuyIGUJT8b",
    "outputId": "a03a2914-dc96-45de-8014-622e4e7591e4"
   },
   "outputs": [
    {
     "name": "stdout",
     "output_type": "stream",
     "text": [
      "city : 65\n",
      "target1 : 343\n",
      "gname : 112\n",
      "summary : 2431\n",
      "motive : 899\n",
      "city : 65\n",
      "target1 : 343\n",
      "gname : 112\n",
      "summary : 2431\n",
      "motive : 899\n"
     ]
    }
   ],
   "source": [
    "# max length 체크 \n",
    "\n",
    "# city 의 max length 체크 \n",
    "cursor.execute(\"select max(length(city)) from origin_terror_data\")\n",
    "print(\"city :\", cursor.fetchall()[0][0])\n",
    "\n",
    "# target1 의 max length 체크 \n",
    "cursor.execute(\"select max(length(target1)) from origin_terror_data\")\n",
    "print(\"target1 :\", cursor.fetchall()[0][0])\n",
    "\n",
    "# gname 의 max length 체크 \n",
    "cursor.execute(\"select max(length(gname)) from origin_terror_data\")\n",
    "print(\"gname :\", cursor.fetchall()[0][0])\n",
    "\n",
    "# summary 의 max length 체크 \n",
    "cursor.execute(\"select max(length(summary)) from origin_terror_data\")\n",
    "print(\"summary :\", cursor.fetchall()[0][0])\n",
    "\n",
    "# motive 의 max length 체크 \n",
    "cursor.execute(\"select max(length(motive)) from origin_terror_data\")\n",
    "print(\"motive :\", cursor.fetchall()[0][0])# max length 체크 \n",
    "\n",
    "# city 의 max length 체크 \n",
    "cursor.execute(\"select max(length(city)) from origin_terror_data\")\n",
    "print(\"city :\", cursor.fetchall()[0][0])\n",
    "\n",
    "# target1 의 max length 체크 \n",
    "cursor.execute(\"select max(length(target1)) from origin_terror_data\")\n",
    "print(\"target1 :\", cursor.fetchall()[0][0])\n",
    "\n",
    "# gname 의 max length 체크 \n",
    "cursor.execute(\"select max(length(gname)) from origin_terror_data\")\n",
    "print(\"gname :\", cursor.fetchall()[0][0])\n",
    "\n",
    "# summary 의 max length 체크 \n",
    "cursor.execute(\"select max(length(summary)) from origin_terror_data\")\n",
    "print(\"summary :\", cursor.fetchall()[0][0])\n",
    "\n",
    "# motive 의 max length 체크 \n",
    "cursor.execute(\"select max(length(motive)) from origin_terror_data\")\n",
    "print(\"motive :\", cursor.fetchall()[0][0])"
   ]
  },
  {
   "cell_type": "code",
   "execution_count": null,
   "metadata": {
    "id": "hHq2Gz6qJT8b",
    "outputId": "4a0464d1-1e4b-4455-ad5c-fb3b538a1f6c"
   },
   "outputs": [
    {
     "name": "stdout",
     "output_type": "stream",
     "text": [
      "('terror_id', b'int', 'NO', 'PRI', None, 'auto_increment')\n",
      "('terror_date', b'date', 'NO', '', None, '')\n",
      "('region_code', b'int', 'NO', 'MUL', None, '')\n",
      "('country_code', b'int', 'NO', 'MUL', None, '')\n",
      "('city', b'varchar(65)', 'YES', '', None, '')\n",
      "('target', b'varchar(350)', 'YES', '', None, '')\n",
      "('group_name', b'varchar(120)', 'YES', '', None, '')\n",
      "('targtype_code', b'int', 'NO', 'MUL', None, '')\n",
      "('attacktype_code', b'int', 'NO', 'MUL', None, '')\n",
      "('weaptype_code', b'int', 'NO', 'MUL', None, '')\n",
      "('kill_count', b'int', 'NO', '', b'0', '')\n",
      "('wound_count', b'int', 'NO', '', b'0', '')\n",
      "('motive', b'varchar(900)', 'YES', '', None, '')\n",
      "('summary', b'varchar(2450)', 'YES', '', None, '')\n",
      "('latitude', b'decimal(16,14)', 'YES', '', None, '')\n",
      "('longitude', b'decimal(17,14)', 'YES', '', None, '')\n"
     ]
    }
   ],
   "source": [
    "# TerrorData 테이블 만들기 \n",
    "sql = '''create table TerrorData\n",
    "(\n",
    "\tterror_id int not null auto_increment primary key,\n",
    "    terror_date date not null,\n",
    "    region_code int not null,\n",
    "    country_code int not null,    \n",
    "    city varchar(65),\n",
    "    target varchar(350),\n",
    "    group_name varchar(120),\n",
    "    targtype_code int not null,\n",
    "    attacktype_code int not null,\n",
    "    weaptype_code int not null,\n",
    "    kill_count int not null default 0,\n",
    "    wound_count int not null default 0,\n",
    "    motive varchar(900),\n",
    "    summary varchar(2450),\n",
    "    latitude DECIMAL(16,14),\n",
    "    longitude DECIMAL(17,14),\n",
    "    FOREIGN KEY (region_code) REFERENCES Region(region_code),\n",
    "    foreign key (country_code) references Country(country_code),\n",
    "    foreign key (attacktype_code) references AttackType(attacktype_code),\n",
    "    foreign key (targtype_code) references TargetType(targtype_code),\n",
    "    foreign key (weaptype_code) references WeaponType(weaptype_code)\n",
    "); '''\n",
    "\n",
    "cursor.execute(sql)\n",
    "\n",
    "cursor.execute(\"desc TerrorData\")\n",
    "records = cursor.fetchall()\n",
    "for item in records:\n",
    "    print(item)"
   ]
  },
  {
   "cell_type": "markdown",
   "metadata": {
    "id": "nJzd-0Q_JT8c"
   },
   "source": [
    "문제 4-2. origin_terror_data 테이블에서 Terror Data를 추출하여 문제 4-1.에서 생성한 테이블에 입력하고 확인하세요.\n",
    "\n",
    "- 앞서 생성한 Region, Country, AttackType, TargetType, WeaponType 데이터와의 관계에 주의하세요.\n",
    "- Count 값을 가지는 칼럼의 값이 null 인 경우, 0으로 예외처리 해주세요.\n",
    "- 위도 경도 데이터 중 범위를 넘어서는 데이터가 존재합니다. 이 경우, null 값으로 예외처리 해주세요. (위도 경도 범위 : 구글링해보세요.)\n",
    "- terror_date 칼럼의 경우, origin_terror_data 의 연, 월, 일 정보를 조합하여 date type 으로 정의해주세요. (Format : ‘YYYY-mm-dd’)\n",
    "- origin_terror_data 의 월, 일 정보중 값이 0 인 경우 date type 으로 변환되지 않습니다. 이 경우, 1 로 예외처리 해주세요.\n",
    "- 데이터 입력까지 완료한 이후, origin_terror_data 테이블을 삭제하고 확인하세요.\n",
    "\n",
    "제출 7. Table 생성 및 조회 결과 : DESC TerrorData, SELECT COUNT(*) FROM TerrorData \n",
    "\n",
    "제출 8. 관련 코드 및 실행 결과 (ipynb)"
   ]
  },
  {
   "cell_type": "code",
   "execution_count": null,
   "metadata": {
    "id": "n-0BUIxwJT8c"
   },
   "outputs": [],
   "source": [
    "# data 전처리 \n",
    "# date type : year + month + day (month = 0 인경우 1, day = 0 인경우 1)\n",
    "# nkill, nwound : null 인 경우 0\n",
    "# longitude range : 180 ~ -180\n",
    "# check : select longitude from origin_terror_data where longitude < -180 or longitude > 180; '-86185896'\n",
    "\n",
    "# terror 데이터 추출하기 \n",
    "sql = '''select DATE_FORMAT(CONCAT(iyear, '-', IF(imonth=0, 1, imonth), '-', IF(iday=0, 1, iday)), '%Y-%m-%d'),\n",
    "                region, country, city, target1, gname, targtype1, attacktype1, weaptype1, \n",
    "                IFNULL(nkill, 0), IFNULL(nwound, 0), motive, summary, latitude, IF(longitude<180, null, longitude)\n",
    "         from origin_terror_data'''\n",
    "cursor.execute(sql)\n",
    "records = cursor.fetchall()\n"
   ]
  },
  {
   "cell_type": "code",
   "execution_count": null,
   "metadata": {
    "id": "ZpTABxkSJT8c",
    "outputId": "8dcdc88c-ce1e-43d3-e32c-1f087ea308fb"
   },
   "outputs": [
    {
     "name": "stdout",
     "output_type": "stream",
     "text": [
      "[(181691,)]\n"
     ]
    }
   ],
   "source": [
    "# TerrorData 테이블에 INSERT \n",
    "sql = '''INSERT INTO TerrorData (terror_date, region_code, country_code, city, target, group_name, \n",
    "                                 targtype_code, attacktype_code, weaptype_code, \n",
    "                                 kill_count, wound_count, motive, summary, latitude, longitude)\n",
    "         VALUES (%s, %s, %s, %s, %s, %s,\n",
    "                 %s, %s, %s, \n",
    "                 %s, %s, %s, %s, %s, %s)'''\n",
    "\n",
    "for item in records:\n",
    "    cursor.execute(sql, item)\n",
    "    conn.commit()\n",
    "\n",
    "cursor.execute(\"SELECT COUNT(*) FROM TerrorData\")\n",
    "records = cursor.fetchall()\n",
    "print(records)"
   ]
  },
  {
   "cell_type": "markdown",
   "metadata": {
    "id": "svyloq3DJT8c"
   },
   "source": [
    "문제 5. TerrorData 의 전체 기간에서 테러의 숫자를 연도별로 집계하여 연도별 테러 발생 건수를 조회하세요. \n",
    "\n",
    "- Python 코드에서 SQL 쿼리를 사용하여 조회합니다. \n",
    "\n",
    "제출 9. 관련 코드 및 실행 결과 (ipynb)"
   ]
  },
  {
   "cell_type": "code",
   "execution_count": null,
   "metadata": {
    "id": "e8vevUjbJT8c",
    "outputId": "e741092a-27cd-4b39-a872-8d321887f3a5"
   },
   "outputs": [
    {
     "name": "stdout",
     "output_type": "stream",
     "text": [
      "('1970', 651)\n",
      "('1971', 471)\n",
      "('1972', 568)\n",
      "('1973', 473)\n",
      "('1974', 581)\n",
      "('1975', 740)\n",
      "('1976', 923)\n",
      "('1977', 1319)\n",
      "('1978', 1526)\n",
      "('1979', 2662)\n",
      "('1980', 2662)\n",
      "('1981', 2586)\n",
      "('1986', 2860)\n",
      "('1982', 2544)\n",
      "('1983', 2870)\n",
      "('1984', 3495)\n",
      "('1985', 2915)\n",
      "('1987', 3183)\n",
      "('1988', 3721)\n",
      "('1989', 4324)\n",
      "('1990', 3887)\n",
      "('1991', 4683)\n",
      "('1992', 5071)\n",
      "('1994', 3456)\n",
      "('1995', 3081)\n",
      "('1996', 3058)\n",
      "('1997', 3197)\n",
      "('1998', 934)\n",
      "('1999', 1395)\n",
      "('2000', 1814)\n",
      "('2001', 1906)\n",
      "('2002', 1333)\n",
      "('2003', 1278)\n",
      "('2004', 1166)\n",
      "('2005', 2017)\n",
      "('2006', 2758)\n",
      "('2007', 3242)\n",
      "('2008', 4805)\n",
      "('2009', 4721)\n",
      "('2010', 4826)\n",
      "('2011', 5076)\n",
      "('2012', 8522)\n",
      "('2013', 12036)\n",
      "('2014', 16903)\n",
      "('2015', 14965)\n",
      "('2016', 13587)\n",
      "('2017', 10900)\n"
     ]
    }
   ],
   "source": [
    "sql = '''select date_format(terror_date, '%Y') year, count(*)\n",
    "         from TerrorData\n",
    "         group by year;'''\n",
    "\n",
    "cursor.execute(sql)\n",
    "records = cursor.fetchall()\n",
    "for item in records:\n",
    "    print(item)"
   ]
  },
  {
   "cell_type": "markdown",
   "metadata": {
    "id": "SUOIDxkPJT8c"
   },
   "source": [
    "문제 6. TerrorData 에서 테러가 가장 많이 일어난 순서로 국가를 정렬하여 상위 10위 국가를 조회하세요. \n",
    "\n",
    "- Python 코드에서 SQL 쿼리를 사용하여 조회합니다. \n",
    "- 국가 정보는 이름으로 출력하세요.\n",
    "\n",
    "제출 10. 관련 코드 및 실행 결과 (ipynb)"
   ]
  },
  {
   "cell_type": "code",
   "execution_count": null,
   "metadata": {
    "id": "ov91s4d-JT8c",
    "outputId": "966ebd26-1b25-41f1-e9b0-c233796b15a0"
   },
   "outputs": [
    {
     "name": "stdout",
     "output_type": "stream",
     "text": [
      "('Middle East & North Africa', 50474)\n",
      "('South Asia', 44974)\n",
      "('South America', 18978)\n",
      "('Sub-Saharan Africa', 17550)\n",
      "('Western Europe', 16639)\n",
      "('Southeast Asia', 12485)\n",
      "('Central America & Caribbean', 10344)\n",
      "('Eastern Europe', 5144)\n",
      "('North America', 3456)\n",
      "('East Asia', 802)\n",
      "('Iraq', 24636)\n",
      "('Pakistan', 14368)\n",
      "('Afghanistan', 12731)\n",
      "('India', 11960)\n",
      "('Colombia', 8306)\n",
      "('Philippines', 6908)\n",
      "('Peru', 6096)\n",
      "('El Salvador', 5320)\n",
      "('United Kingdom', 5235)\n",
      "('Turkey', 4292)\n"
     ]
    }
   ],
   "source": [
    "# 테러가 많이 일어난 상위 10위 Region\n",
    "sql = '''select r.region_name, count(t.terror_id) terror_count\n",
    "         from TerrorData t, Region r\n",
    "         where t.region_code = r.region_code\n",
    "         group by r.region_name\n",
    "         order by terror_count desc\n",
    "         limit 10'''\n",
    "\n",
    "cursor.execute(sql)\n",
    "records = cursor.fetchall()\n",
    "for item in records:\n",
    "    print(item)\n",
    "\n",
    "\n",
    "\n",
    "# 테러가 많이 일어난 상위 10위 Country \n",
    "sql = '''select c.country_name, count(t.terror_id) terror_count\n",
    "         from TerrorData t, Country c\n",
    "         where t.country_code = c.country_code\n",
    "         group by c.country_name\n",
    "         order by terror_count desc\n",
    "         limit 10'''\n",
    "\n",
    "cursor.execute(sql)\n",
    "records = cursor.fetchall()\n",
    "for item in records:\n",
    "    print(item)\n"
   ]
  },
  {
   "cell_type": "markdown",
   "metadata": {
    "id": "MOxllsnYJT8d"
   },
   "source": [
    "문제 7. TerrorData 에서 테러가 가장 많이 일어난 상위 10위 국가에 대해 국가별로 사망자수와 부상자수, 사상자수(사망자수 + 부상자수)를 조회하세요. \n",
    "\n",
    "- Python 코드에서 SQL 쿼리를 사용하여 조회합니다. \n",
    "- 국가 정보는 이름으로 출력하세요.\n",
    "\n",
    "제출 11. 관련 코드 및 실행 결과 (ipynb)"
   ]
  },
  {
   "cell_type": "code",
   "execution_count": null,
   "metadata": {
    "id": "MIh63cFrJT8d",
    "outputId": "aa682c35-188b-48cb-8672-6f14bcb966eb"
   },
   "outputs": [
    {
     "name": "stdout",
     "output_type": "stream",
     "text": [
      "('Iraq', 24636, Decimal('78589'), Decimal('134690'), Decimal('213279'))\n",
      "('Pakistan', 14368, Decimal('23822'), Decimal('42038'), Decimal('65860'))\n",
      "('Afghanistan', 12731, Decimal('39384'), Decimal('44277'), Decimal('83661'))\n",
      "('India', 11960, Decimal('19341'), Decimal('28980'), Decimal('48321'))\n",
      "('Colombia', 8306, Decimal('14698'), Decimal('10328'), Decimal('25026'))\n",
      "('Philippines', 6908, Decimal('9559'), Decimal('13367'), Decimal('22926'))\n",
      "('Peru', 6096, Decimal('12771'), Decimal('4078'), Decimal('16849'))\n",
      "('El Salvador', 5320, Decimal('12053'), Decimal('5062'), Decimal('17115'))\n",
      "('United Kingdom', 5235, Decimal('3410'), Decimal('6106'), Decimal('9516'))\n",
      "('Turkey', 4292, Decimal('6888'), Decimal('9899'), Decimal('16787'))\n"
     ]
    }
   ],
   "source": [
    "sql = '''select c.country_name as country, \n",
    "\t            count(t.terror_id) as attacks, \n",
    "                sum(kill_count) as killed,     \n",
    "                sum(wound_count) as wounded,     \n",
    "                sum(kill_count + wound_count) as casualities\n",
    "         from TerrorData t, Country c\n",
    "         where t.country_code = c.country_code\n",
    "         group by country\n",
    "         order by attacks desc\n",
    "         limit 10'''\n",
    "\n",
    "cursor.execute(sql)\n",
    "records = cursor.fetchall()\n",
    "for item in records:\n",
    "    print(item)\n"
   ]
  },
  {
   "cell_type": "markdown",
   "metadata": {
    "id": "f8U5owjmJT8d"
   },
   "source": [
    "문제 8. 지역별 테러 공격 형태에 따른 사망자수, 부상자수, 사상자수를 조회하세요.\n",
    "\n",
    "- Python 코드에서 SQL 쿼리를 사용하여 조회합니다. \n",
    "- 지역 정보(Region)는 이름으로 출력하세요.\n",
    "\n",
    "제출 12. 관련 코드 및 실행 결과 (ipynb)"
   ]
  },
  {
   "cell_type": "code",
   "execution_count": null,
   "metadata": {
    "id": "Kv6fneotJT8d",
    "outputId": "e561221e-9124-4672-df6e-21c7bc78c1d3"
   },
   "outputs": [
    {
     "name": "stdout",
     "output_type": "stream",
     "text": [
      "('Central America & Caribbean', 'Assassination', 1254, 1254)\n",
      "('Southeast Asia', 'Assassination', 1369, 1369)\n",
      "('South America', 'Assassination', 2745, 2745)\n",
      "('North America', 'Assassination', 255, 255)\n",
      "('Middle East & North Africa', 'Assassination', 4206, 4206)\n",
      "('South Asia', 'Assassination', 4301, 4301)\n",
      "('Western Europe', 'Assassination', 2938, 2938)\n",
      "('Sub-Saharan Africa', 'Assassination', 1638, 1638)\n",
      "('Australasia & Oceania', 'Assassination', 36, 36)\n",
      "('East Asia', 'Assassination', 55, 55)\n",
      "('Eastern Europe', 'Assassination', 400, 400)\n",
      "('Central Asia', 'Assassination', 115, 115)\n",
      "('North America', 'Armed Assault', 448, 448)\n",
      "('South America', 'Armed Assault', 3875, 3875)\n",
      "('Western Europe', 'Armed Assault', 1724, 1724)\n",
      "('Middle East & North Africa', 'Armed Assault', 9273, 9273)\n",
      "('Central America & Caribbean', 'Armed Assault', 4361, 4361)\n",
      "('Southeast Asia', 'Armed Assault', 4022, 4022)\n",
      "('Australasia & Oceania', 'Armed Assault', 51, 51)\n",
      "('Sub-Saharan Africa', 'Armed Assault', 6004, 6004)\n",
      "('Eastern Europe', 'Armed Assault', 1274, 1274)\n",
      "('East Asia', 'Armed Assault', 117, 117)\n",
      "('South Asia', 'Armed Assault', 11404, 11404)\n",
      "('Central Asia', 'Armed Assault', 116, 116)\n",
      "('Western Europe', 'Bombing/Explosion', 8508, 8508)\n",
      "('North America', 'Bombing/Explosion', 1534, 1534)\n",
      "('Eastern Europe', 'Bombing/Explosion', 2766, 2766)\n",
      "('Southeast Asia', 'Bombing/Explosion', 4818, 4818)\n",
      "('Middle East & North Africa', 'Bombing/Explosion', 30908, 30908)\n",
      "('South America', 'Bombing/Explosion', 9039, 9039)\n",
      "('Australasia & Oceania', 'Bombing/Explosion', 75, 75)\n",
      "('East Asia', 'Bombing/Explosion', 330, 330)\n",
      "('Central America & Caribbean', 'Bombing/Explosion', 3239, 3239)\n",
      "('South Asia', 'Bombing/Explosion', 21246, 21246)\n",
      "('Sub-Saharan Africa', 'Bombing/Explosion', 5557, 5557)\n",
      "('Central Asia', 'Bombing/Explosion', 235, 235)\n",
      "('Western Europe', 'Hijacking', 67, 67)\n",
      "('North America', 'Hijacking', 18, 18)\n",
      "('East Asia', 'Hijacking', 18, 18)\n",
      "('South America', 'Hijacking', 67, 67)\n",
      "('Middle East & North Africa', 'Hijacking', 138, 138)\n",
      "('Sub-Saharan Africa', 'Hijacking', 136, 136)\n",
      "('Southeast Asia', 'Hijacking', 59, 59)\n",
      "('South Asia', 'Hijacking', 93, 93)\n",
      "('Central America & Caribbean', 'Hijacking', 26, 26)\n",
      "('Eastern Europe', 'Hijacking', 26, 26)\n",
      "('Central Asia', 'Hijacking', 8, 8)\n",
      "('Australasia & Oceania', 'Hijacking', 3, 3)\n",
      "('Middle East & North Africa', 'Hostage Taking (Barricade Incident)', 100, 100)\n",
      "('South America', 'Hostage Taking (Barricade Incident)', 234, 234)\n",
      "('North America', 'Hostage Taking (Barricade Incident)', 67, 67)\n",
      "('Southeast Asia', 'Hostage Taking (Barricade Incident)', 67, 67)\n",
      "('Western Europe', 'Hostage Taking (Barricade Incident)', 89, 89)\n",
      "('Central America & Caribbean', 'Hostage Taking (Barricade Incident)', 187, 187)\n",
      "('Sub-Saharan Africa', 'Hostage Taking (Barricade Incident)', 95, 95)\n",
      "('South Asia', 'Hostage Taking (Barricade Incident)', 120, 120)\n",
      "('East Asia', 'Hostage Taking (Barricade Incident)', 3, 3)\n",
      "('Eastern Europe', 'Hostage Taking (Barricade Incident)', 21, 21)\n",
      "('Australasia & Oceania', 'Hostage Taking (Barricade Incident)', 6, 6)\n",
      "('Central Asia', 'Hostage Taking (Barricade Incident)', 2, 2)\n",
      "('North America', 'Hostage Taking (Kidnapping)', 123, 123)\n",
      "('South America', 'Hostage Taking (Kidnapping)', 1414, 1414)\n",
      "('Western Europe', 'Hostage Taking (Kidnapping)', 269, 269)\n",
      "('Central America & Caribbean', 'Hostage Taking (Kidnapping)', 501, 501)\n",
      "('Sub-Saharan Africa', 'Hostage Taking (Kidnapping)', 1872, 1872)\n",
      "('Middle East & North Africa', 'Hostage Taking (Kidnapping)', 2666, 2666)\n",
      "('Southeast Asia', 'Hostage Taking (Kidnapping)', 744, 744)\n",
      "('Eastern Europe', 'Hostage Taking (Kidnapping)', 220, 220)\n",
      "('South Asia', 'Hostage Taking (Kidnapping)', 3277, 3277)\n",
      "('Australasia & Oceania', 'Hostage Taking (Kidnapping)', 13, 13)\n",
      "('Central Asia', 'Hostage Taking (Kidnapping)', 45, 45)\n",
      "('East Asia', 'Hostage Taking (Kidnapping)', 14, 14)\n",
      "('East Asia', 'Facility/Infrastructure Attack', 200, 200)\n",
      "('North America', 'Facility/Infrastructure Attack', 906, 906)\n",
      "('Eastern Europe', 'Facility/Infrastructure Attack', 260, 260)\n",
      "('Western Europe', 'Facility/Infrastructure Attack', 2631, 2631)\n",
      "('South America', 'Facility/Infrastructure Attack', 803, 803)\n",
      "('Middle East & North Africa', 'Facility/Infrastructure Attack', 1115, 1115)\n",
      "('Australasia & Oceania', 'Facility/Infrastructure Attack', 71, 71)\n",
      "('Southeast Asia', 'Facility/Infrastructure Attack', 948, 948)\n",
      "('Central America & Caribbean', 'Facility/Infrastructure Attack', 403, 403)\n",
      "('South Asia', 'Facility/Infrastructure Attack', 2189, 2189)\n",
      "('Sub-Saharan Africa', 'Facility/Infrastructure Attack', 810, 810)\n",
      "('Central Asia', 'Facility/Infrastructure Attack', 20, 20)\n",
      "('North America', 'Unarmed Assault', 73, 73)\n",
      "('Western Europe', 'Unarmed Assault', 148, 148)\n",
      "('Central America & Caribbean', 'Unarmed Assault', 19, 19)\n",
      "('East Asia', 'Unarmed Assault', 42, 42)\n",
      "('Middle East & North Africa', 'Unarmed Assault', 177, 177)\n",
      "('South Asia', 'Unarmed Assault', 323, 323)\n",
      "('South America', 'Unarmed Assault', 47, 47)\n",
      "('Sub-Saharan Africa', 'Unarmed Assault', 83, 83)\n",
      "('Southeast Asia', 'Unarmed Assault', 25, 25)\n",
      "('Eastern Europe', 'Unarmed Assault', 62, 62)\n",
      "('Central Asia', 'Unarmed Assault', 5, 5)\n",
      "('Australasia & Oceania', 'Unarmed Assault', 11, 11)\n",
      "('Sub-Saharan Africa', 'Unknown', 1355, 1355)\n",
      "('Southeast Asia', 'Unknown', 433, 433)\n",
      "('Middle East & North Africa', 'Unknown', 1891, 1891)\n",
      "('South America', 'Unknown', 754, 754)\n",
      "('North America', 'Unknown', 32, 32)\n",
      "('Western Europe', 'Unknown', 265, 265)\n",
      "('South Asia', 'Unknown', 2021, 2021)\n",
      "('Central America & Caribbean', 'Unknown', 354, 354)\n",
      "('East Asia', 'Unknown', 23, 23)\n",
      "('Eastern Europe', 'Unknown', 115, 115)\n",
      "('Australasia & Oceania', 'Unknown', 16, 16)\n",
      "('Central Asia', 'Unknown', 17, 17)\n",
      "('Middle East & North Africa', 'Bombing/Explosion', 30908, 30908, 30908)\n",
      "('South Asia', 'Bombing/Explosion', 21246, 21246, 21246)\n",
      "('South Asia', 'Armed Assault', 11404, 11404, 11404)\n",
      "('Middle East & North Africa', 'Armed Assault', 9273, 9273, 9273)\n",
      "('South America', 'Bombing/Explosion', 9039, 9039, 9039)\n",
      "('Western Europe', 'Bombing/Explosion', 8508, 8508, 8508)\n",
      "('Sub-Saharan Africa', 'Armed Assault', 6004, 6004, 6004)\n",
      "('Sub-Saharan Africa', 'Bombing/Explosion', 5557, 5557, 5557)\n",
      "('Southeast Asia', 'Bombing/Explosion', 4818, 4818, 4818)\n",
      "('Central America & Caribbean', 'Armed Assault', 4361, 4361, 4361)\n",
      "('South Asia', 'Assassination', 4301, 4301, 4301)\n",
      "('Middle East & North Africa', 'Assassination', 4206, 4206, 4206)\n",
      "('Southeast Asia', 'Armed Assault', 4022, 4022, 4022)\n",
      "('South America', 'Armed Assault', 3875, 3875, 3875)\n",
      "('South Asia', 'Hostage Taking (Kidnapping)', 3277, 3277, 3277)\n",
      "('Central America & Caribbean', 'Bombing/Explosion', 3239, 3239, 3239)\n",
      "('Western Europe', 'Assassination', 2938, 2938, 2938)\n",
      "('Eastern Europe', 'Bombing/Explosion', 2766, 2766, 2766)\n",
      "('South America', 'Assassination', 2745, 2745, 2745)\n",
      "('Middle East & North Africa', 'Hostage Taking (Kidnapping)', 2666, 2666, 2666)\n",
      "('Western Europe', 'Facility/Infrastructure Attack', 2631, 2631, 2631)\n",
      "('South Asia', 'Facility/Infrastructure Attack', 2189, 2189, 2189)\n",
      "('South Asia', 'Unknown', 2021, 2021, 2021)\n",
      "('Middle East & North Africa', 'Unknown', 1891, 1891, 1891)\n",
      "('Sub-Saharan Africa', 'Hostage Taking (Kidnapping)', 1872, 1872, 1872)\n",
      "('Western Europe', 'Armed Assault', 1724, 1724, 1724)\n",
      "('Sub-Saharan Africa', 'Assassination', 1638, 1638, 1638)\n",
      "('North America', 'Bombing/Explosion', 1534, 1534, 1534)\n",
      "('South America', 'Hostage Taking (Kidnapping)', 1414, 1414, 1414)\n",
      "('Southeast Asia', 'Assassination', 1369, 1369, 1369)\n",
      "('Sub-Saharan Africa', 'Unknown', 1355, 1355, 1355)\n",
      "('Eastern Europe', 'Armed Assault', 1274, 1274, 1274)\n",
      "('Central America & Caribbean', 'Assassination', 1254, 1254, 1254)\n",
      "('Middle East & North Africa', 'Facility/Infrastructure Attack', 1115, 1115, 1115)\n",
      "('Southeast Asia', 'Facility/Infrastructure Attack', 948, 948, 948)\n",
      "('North America', 'Facility/Infrastructure Attack', 906, 906, 906)\n",
      "('Sub-Saharan Africa', 'Facility/Infrastructure Attack', 810, 810, 810)\n",
      "('South America', 'Facility/Infrastructure Attack', 803, 803, 803)\n",
      "('South America', 'Unknown', 754, 754, 754)\n",
      "('Southeast Asia', 'Hostage Taking (Kidnapping)', 744, 744, 744)\n",
      "('Central America & Caribbean', 'Hostage Taking (Kidnapping)', 501, 501, 501)\n",
      "('North America', 'Armed Assault', 448, 448, 448)\n",
      "('Southeast Asia', 'Unknown', 433, 433, 433)\n",
      "('Central America & Caribbean', 'Facility/Infrastructure Attack', 403, 403, 403)\n",
      "('Eastern Europe', 'Assassination', 400, 400, 400)\n",
      "('Central America & Caribbean', 'Unknown', 354, 354, 354)\n",
      "('East Asia', 'Bombing/Explosion', 330, 330, 330)\n",
      "('South Asia', 'Unarmed Assault', 323, 323, 323)\n",
      "('Western Europe', 'Hostage Taking (Kidnapping)', 269, 269, 269)\n",
      "('Western Europe', 'Unknown', 265, 265, 265)\n",
      "('Eastern Europe', 'Facility/Infrastructure Attack', 260, 260, 260)\n",
      "('North America', 'Assassination', 255, 255, 255)\n",
      "('Central Asia', 'Bombing/Explosion', 235, 235, 235)\n",
      "('South America', 'Hostage Taking (Barricade Incident)', 234, 234, 234)\n",
      "('Eastern Europe', 'Hostage Taking (Kidnapping)', 220, 220, 220)\n",
      "('East Asia', 'Facility/Infrastructure Attack', 200, 200, 200)\n",
      "('Central America & Caribbean', 'Hostage Taking (Barricade Incident)', 187, 187, 187)\n",
      "('Middle East & North Africa', 'Unarmed Assault', 177, 177, 177)\n",
      "('Western Europe', 'Unarmed Assault', 148, 148, 148)\n",
      "('Middle East & North Africa', 'Hijacking', 138, 138, 138)\n",
      "('Sub-Saharan Africa', 'Hijacking', 136, 136, 136)\n",
      "('North America', 'Hostage Taking (Kidnapping)', 123, 123, 123)\n",
      "('South Asia', 'Hostage Taking (Barricade Incident)', 120, 120, 120)\n",
      "('East Asia', 'Armed Assault', 117, 117, 117)\n",
      "('Central Asia', 'Armed Assault', 116, 116, 116)\n",
      "('Central Asia', 'Assassination', 115, 115, 115)\n",
      "('Eastern Europe', 'Unknown', 115, 115, 115)\n",
      "('Middle East & North Africa', 'Hostage Taking (Barricade Incident)', 100, 100, 100)\n",
      "('Sub-Saharan Africa', 'Hostage Taking (Barricade Incident)', 95, 95, 95)\n",
      "('South Asia', 'Hijacking', 93, 93, 93)\n",
      "('Western Europe', 'Hostage Taking (Barricade Incident)', 89, 89, 89)\n",
      "('Sub-Saharan Africa', 'Unarmed Assault', 83, 83, 83)\n",
      "('Australasia & Oceania', 'Bombing/Explosion', 75, 75, 75)\n",
      "('North America', 'Unarmed Assault', 73, 73, 73)\n",
      "('Australasia & Oceania', 'Facility/Infrastructure Attack', 71, 71, 71)\n",
      "('North America', 'Hostage Taking (Barricade Incident)', 67, 67, 67)\n",
      "('South America', 'Hijacking', 67, 67, 67)\n",
      "('Southeast Asia', 'Hostage Taking (Barricade Incident)', 67, 67, 67)\n",
      "('Western Europe', 'Hijacking', 67, 67, 67)\n",
      "('Eastern Europe', 'Unarmed Assault', 62, 62, 62)\n",
      "('Southeast Asia', 'Hijacking', 59, 59, 59)\n",
      "('East Asia', 'Assassination', 55, 55, 55)\n",
      "('Australasia & Oceania', 'Armed Assault', 51, 51, 51)\n",
      "('South America', 'Unarmed Assault', 47, 47, 47)\n",
      "('Central Asia', 'Hostage Taking (Kidnapping)', 45, 45, 45)\n",
      "('East Asia', 'Unarmed Assault', 42, 42, 42)\n",
      "('Australasia & Oceania', 'Assassination', 36, 36, 36)\n",
      "('North America', 'Unknown', 32, 32, 32)\n",
      "('Central America & Caribbean', 'Hijacking', 26, 26, 26)\n",
      "('Eastern Europe', 'Hijacking', 26, 26, 26)\n",
      "('Southeast Asia', 'Unarmed Assault', 25, 25, 25)\n",
      "('East Asia', 'Unknown', 23, 23, 23)\n",
      "('Eastern Europe', 'Hostage Taking (Barricade Incident)', 21, 21, 21)\n",
      "('Central Asia', 'Facility/Infrastructure Attack', 20, 20, 20)\n",
      "('Central America & Caribbean', 'Unarmed Assault', 19, 19, 19)\n",
      "('East Asia', 'Hijacking', 18, 18, 18)\n",
      "('North America', 'Hijacking', 18, 18, 18)\n",
      "('Central Asia', 'Unknown', 17, 17, 17)\n",
      "('Australasia & Oceania', 'Unknown', 16, 16, 16)\n",
      "('East Asia', 'Hostage Taking (Kidnapping)', 14, 14, 14)\n",
      "('Australasia & Oceania', 'Hostage Taking (Kidnapping)', 13, 13, 13)\n",
      "('Australasia & Oceania', 'Unarmed Assault', 11, 11, 11)\n",
      "('Central Asia', 'Hijacking', 8, 8, 8)\n",
      "('Australasia & Oceania', 'Hostage Taking (Barricade Incident)', 6, 6, 6)\n",
      "('Central Asia', 'Unarmed Assault', 5, 5, 5)\n",
      "('Australasia & Oceania', 'Hijacking', 3, 3, 3)\n",
      "('East Asia', 'Hostage Taking (Barricade Incident)', 3, 3, 3)\n",
      "('Central Asia', 'Hostage Taking (Barricade Incident)', 2, 2, 2)\n"
     ]
    }
   ],
   "source": [
    "# 지역별 테러 공격 형태에 따른 사망자와 사상자 수 \n",
    "sql = '''select r.region_name as region_name, a.attacktype_desc as attacktype_desc, \n",
    "                count(kill_count) as killed, count(wound_count) as wounded, \n",
    "                count(kill_count + wound_count) as casualities\n",
    "         from TerrorData t, Region r, AttackType a\n",
    "         where t.region_code = r.region_code and t.attacktype_code = a.attacktype_code\n",
    "         group by region_name, attacktype_desc\n",
    "         order by casualities desc, region_name'''\n",
    "\n",
    "cursor.execute(sql)\n",
    "records = cursor.fetchall()\n",
    "for item in records:\n",
    "    print(item)\n"
   ]
  },
  {
   "cell_type": "markdown",
   "metadata": {
    "id": "3OJj_AqyJT8d"
   },
   "source": [
    "---"
   ]
  },
  {
   "cell_type": "markdown",
   "metadata": {
    "id": "00RiuU8nJT8d"
   },
   "source": [
    "# reference"
   ]
  },
  {
   "cell_type": "markdown",
   "metadata": {
    "id": "IQyvTkCjJT8d"
   },
   "source": [
    "민형동 (2020). Global Terrorism Data를 활용한 국가별 테러유형 분석. 한국공안행정학회, 82, 63-84. \n",
    "\n",
    "한인택 (2017). Global Terrorism Database를 활용한 테러리즘의 현황분석. \n",
    "\n",
    "민형기 (2019). 전세계 테러 데이터 분석 (따라하기). https://pinkwink.kr/1214 \n",
    "\n",
    "ASHWINI SWSAIN (2018). Terrorism Around The World. https://www.kaggle.com/code/ash316/terrorism-around-the-world/notebook\n",
    "\n",
    "START (National Consortium for the Study of Terrorism and Responses to Terrorism). (2021). *Global Terrorism Database* (GTD) [Data set]. University of Maryland. https://www.start.umd.edu/gtd\n",
    "\n",
    "START (National Consortium for the Study of Terrorism and Responses to Terrorism). (2021, August). *Global Terrorism Database codebook: Methodology, inclusion criteria, and variables.* University of Maryland. https://www.start.umd.edu/gtd/downloads/Codebook.pdf \n"
   ]
  }
 ],
 "metadata": {
  "colab": {
   "provenance": []
  },
  "kernelspec": {
   "display_name": "Python 3 (ipykernel)",
   "language": "python",
   "name": "python3"
  },
  "language_info": {
   "codemirror_mode": {
    "name": "ipython",
    "version": 3
   },
   "file_extension": ".py",
   "mimetype": "text/x-python",
   "name": "python",
   "nbconvert_exporter": "python",
   "pygments_lexer": "ipython3",
   "version": "3.8.16"
  },
  "vscode": {
   "interpreter": {
    "hash": "8a599eba5a0607422bdd95bfff87163a2f2d674a232995810feaab4a67e8969e"
   }
  }
 },
 "nbformat": 4,
 "nbformat_minor": 1
}
